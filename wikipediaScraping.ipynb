{
 "cells": [
  {
   "cell_type": "code",
   "execution_count": 151,
   "metadata": {
    "collapsed": false
   },
   "outputs": [],
   "source": [
    "from bs4 import BeautifulSoup\n",
    "import urllib.request\n",
    "import re"
   ]
  },
  {
   "cell_type": "code",
   "execution_count": 152,
   "metadata": {
    "collapsed": false
   },
   "outputs": [
    {
     "name": "stdout",
     "output_type": "stream",
     "text": [
      "<class 'bs4.BeautifulSoup'>\n"
     ]
    }
   ],
   "source": [
    "with urllib.request.urlopen('https://en.wikipedia.org/wiki/Looney_Tunes_and_Merrie_Melodies_filmography_(1929-1939)') as url:\n",
    "    r = url.read()\n",
    "soup = BeautifulSoup(r, \"lxml\")\n",
    "print(type(soup))"
   ]
  },
  {
   "cell_type": "markdown",
   "metadata": {},
   "source": [
    "# allYears is a list of html blocks that describes each year of looney toons cartoons"
   ]
  },
  {
   "cell_type": "code",
   "execution_count": 153,
   "metadata": {
    "collapsed": true
   },
   "outputs": [],
   "source": [
    "allYears = soup.find_all(\"table\", class_=\"wikitable sortable\")"
   ]
  },
  {
   "cell_type": "markdown",
   "metadata": {},
   "source": [
    "# allYears[0] is the cartoons for the first year from that url"
   ]
  },
  {
   "cell_type": "code",
   "execution_count": 154,
   "metadata": {
    "collapsed": false
   },
   "outputs": [
    {
     "data": {
      "text/plain": [
       "<table class=\"wikitable sortable\">\n",
       "<tr>\n",
       "<th scope=\"col\" style=\"width: 150px;\">Title</th>\n",
       "<th scope=\"col\" style=\"width: 50px;\">Series</th>\n",
       "<th scope=\"col\" style=\"width: 100px;\">Drawn By (Animated)</th>\n",
       "<th scope=\"col\" style=\"width: 200px;\">Characters</th>\n",
       "<th scope=\"col\" style=\"width: 100px;\">Identification Numbers</th>\n",
       "<th scope=\"col\" style=\"width: 125px;\">Release date</th>\n",
       "<th scope=\"col\" style=\"width: 400px;\">Availability</th>\n",
       "<th>Notes</th>\n",
       "</tr>\n",
       "<tr>\n",
       "<td><i><a href=\"/wiki/Sinkin%27_in_the_Bathtub\" title=\"Sinkin' in the Bathtub\">Sinkin' in the Bathtub</a></i></td>\n",
       "<td>LT</td>\n",
       "<td><a href=\"/wiki/Friz_Freleng\" title=\"Friz Freleng\">Isadore Freleng</a>,<br/>\n",
       "Rollin Hamilton (unc.),<br/>\n",
       "Hugh Harman (unc.),<br/>\n",
       "Rudolf Ising (unc.)</td>\n",
       "<td>Honey</td>\n",
       "<td>4127</td>\n",
       "<td>April 19, 1930</td>\n",
       "<td>\n",
       "<ul>\n",
       "<li>DVD - <a href=\"/wiki/Looney_Tunes_Golden_Collection:_Volume_3\" title=\"Looney Tunes Golden Collection: Volume 3\">LTGC Volume 3, Disc 2 (special feature)</a></li>\n",
       "<li>Blu-ray - <a href=\"/wiki/Looney_Tunes_Platinum_Collection:_Volume_2\" title=\"Looney Tunes Platinum Collection: Volume 2\">LTPC Volume 2, Disc 3 (special feature)</a></li>\n",
       "</ul>\n",
       "</td>\n",
       "<td>\n",
       "<ul>\n",
       "<li>First officially released Warner Bros. cartoon.</li>\n",
       "<li>First publicly released Bosko cartoon; first appearance of Honey</li>\n",
       "<li>In the public domain in the United States.</li>\n",
       "</ul>\n",
       "</td>\n",
       "</tr>\n",
       "<tr>\n",
       "<td><i><a href=\"/wiki/Congo_Jazz\" title=\"Congo Jazz\">Congo Jazz</a></i></td>\n",
       "<td>LT</td>\n",
       "<td>Max Maxwell<br/>\n",
       "Paul Smith</td>\n",
       "<td></td>\n",
       "<td>4167</td>\n",
       "<td>September 1930</td>\n",
       "<td>\n",
       "<ul>\n",
       "<li>DVD - <a href=\"/wiki/Looney_Tunes_Golden_Collection:_Volume_6\" title=\"Looney Tunes Golden Collection: Volume 6\">LTGC Volume 6, Disc 3</a></li>\n",
       "</ul>\n",
       "</td>\n",
       "<td>\n",
       "<ul>\n",
       "<li>Animation credit changes to \"Drawn by\" throughout the Harman-Ising era. Also, on this cartoon only, musical director Marsales is credited ahead of the animators. Smith (1906-1980) lasted ten years as a WB animator, later becoming animator and director for the Walter Lantz studio. He is the father of actor/director Charles Martin Smith. This cartoon contains a trombone solo that includes a sound which was later the origin of the classic WB sound effect \"Trombone Gobble.\"</li>\n",
       "<li>In the public domain in the United States.</li>\n",
       "</ul>\n",
       "</td>\n",
       "</tr>\n",
       "<tr>\n",
       "<td><i><a href=\"/wiki/Hold_Anything\" title=\"Hold Anything\">Hold Anything</a></i></td>\n",
       "<td>LT</td>\n",
       "<td>Isadore Freleng<br/>\n",
       "Norm Blackburn</td>\n",
       "<td>Honey</td>\n",
       "<td>4229</td>\n",
       "<td>October 1930</td>\n",
       "<td>\n",
       "<ul>\n",
       "<li>DVD - <a class=\"new\" href=\"/w/index.php?title=Uncensored_Bosko:_Volume_1&amp;action=edit&amp;redlink=1\" title=\"Uncensored Bosko: Volume 1 (page does not exist)\">Uncensored Bosko: Volume 1</a> (unrestored)</li>\n",
       "</ul>\n",
       "</td>\n",
       "<td>\n",
       "<ul>\n",
       "<li>In the public domain in the United States.</li>\n",
       "</ul>\n",
       "</td>\n",
       "</tr>\n",
       "<tr>\n",
       "<td><i><span class=\"sortkey\" style=\"display:none;\">Booze Hangs High, The !</span><span class=\"sorttext\"><a href=\"/wiki/The_Booze_Hangs_High\" title=\"The Booze Hangs High\">The Booze Hangs High</a></span></i></td>\n",
       "<td>LT</td>\n",
       "<td>Isadore Freleng<br/>\n",
       "Paul Smith</td>\n",
       "<td></td>\n",
       "<td>4340</td>\n",
       "<td>December 1930</td>\n",
       "<td>\n",
       "<ul>\n",
       "<li>DVD - <a href=\"/wiki/Looney_Tunes_Golden_Collection:_Volume_6\" title=\"Looney Tunes Golden Collection: Volume 6\">LTGC Volume 6, Disc 3</a></li>\n",
       "</ul>\n",
       "</td>\n",
       "<td>\n",
       "<ul>\n",
       "<li>In the public domain in the United States.</li>\n",
       "</ul>\n",
       "</td>\n",
       "</tr>\n",
       "<tr>\n",
       "<td><i><a href=\"/wiki/Box_Car_Blues\" title=\"Box Car Blues\">Box Car Blues</a></i></td>\n",
       "<td>LT</td>\n",
       "<td>Rollin Hamilton<br/>\n",
       "Max Maxwell</td>\n",
       "<td></td>\n",
       "<td>4368</td>\n",
       "<td>December 1930</td>\n",
       "<td>\n",
       "<ul>\n",
       "<li>DVD - <a class=\"new\" href=\"/w/index.php?title=Uncensored_Bosko:_Volume_1&amp;action=edit&amp;redlink=1\" title=\"Uncensored Bosko: Volume 1 (page does not exist)\">Uncensored Bosko: Volume 1</a> (unrestored)</li>\n",
       "</ul>\n",
       "</td>\n",
       "<td>\n",
       "<ul>\n",
       "<li>In the public domain in the United States.</li>\n",
       "</ul>\n",
       "</td>\n",
       "</tr>\n",
       "</table>"
      ]
     },
     "execution_count": 154,
     "metadata": {},
     "output_type": "execute_result"
    }
   ],
   "source": [
    "allYears[0]"
   ]
  },
  {
   "cell_type": "markdown",
   "metadata": {},
   "source": [
    "# allYears[0].tr is the first tr block found in allYears[0]"
   ]
  },
  {
   "cell_type": "code",
   "execution_count": 155,
   "metadata": {
    "collapsed": false,
    "scrolled": true
   },
   "outputs": [
    {
     "data": {
      "text/plain": [
       "<tr>\n",
       "<th scope=\"col\" style=\"width: 150px;\">Title</th>\n",
       "<th scope=\"col\" style=\"width: 50px;\">Series</th>\n",
       "<th scope=\"col\" style=\"width: 100px;\">Drawn By (Animated)</th>\n",
       "<th scope=\"col\" style=\"width: 200px;\">Characters</th>\n",
       "<th scope=\"col\" style=\"width: 100px;\">Identification Numbers</th>\n",
       "<th scope=\"col\" style=\"width: 125px;\">Release date</th>\n",
       "<th scope=\"col\" style=\"width: 400px;\">Availability</th>\n",
       "<th>Notes</th>\n",
       "</tr>"
      ]
     },
     "execution_count": 155,
     "metadata": {},
     "output_type": "execute_result"
    }
   ],
   "source": [
    "allYears[0].tr"
   ]
  },
  {
   "cell_type": "markdown",
   "metadata": {},
   "source": [
    "# allYears[0].find_all(\"tr\") is a list of all of the tr blocks found in allYears[0]"
   ]
  },
  {
   "cell_type": "code",
   "execution_count": 156,
   "metadata": {
    "collapsed": false
   },
   "outputs": [
    {
     "name": "stdout",
     "output_type": "stream",
     "text": [
      "[<tr>\n",
      "<th scope=\"col\" style=\"width: 150px;\">Title</th>\n",
      "<th scope=\"col\" style=\"width: 50px;\">Series</th>\n",
      "<th scope=\"col\" style=\"width: 100px;\">Drawn By (Animated)</th>\n",
      "<th scope=\"col\" style=\"width: 200px;\">Characters</th>\n",
      "<th scope=\"col\" style=\"width: 100px;\">Identification Numbers</th>\n",
      "<th scope=\"col\" style=\"width: 125px;\">Release date</th>\n",
      "<th scope=\"col\" style=\"width: 400px;\">Availability</th>\n",
      "<th>Notes</th>\n",
      "</tr>, <tr>\n",
      "<td><i><a href=\"/wiki/Sinkin%27_in_the_Bathtub\" title=\"Sinkin' in the Bathtub\">Sinkin' in the Bathtub</a></i></td>\n",
      "<td>LT</td>\n",
      "<td><a href=\"/wiki/Friz_Freleng\" title=\"Friz Freleng\">Isadore Freleng</a>,<br/>\n",
      "Rollin Hamilton (unc.),<br/>\n",
      "Hugh Harman (unc.),<br/>\n",
      "Rudolf Ising (unc.)</td>\n",
      "<td>Honey</td>\n",
      "<td>4127</td>\n",
      "<td>April 19, 1930</td>\n",
      "<td>\n",
      "<ul>\n",
      "<li>DVD - <a href=\"/wiki/Looney_Tunes_Golden_Collection:_Volume_3\" title=\"Looney Tunes Golden Collection: Volume 3\">LTGC Volume 3, Disc 2 (special feature)</a></li>\n",
      "<li>Blu-ray - <a href=\"/wiki/Looney_Tunes_Platinum_Collection:_Volume_2\" title=\"Looney Tunes Platinum Collection: Volume 2\">LTPC Volume 2, Disc 3 (special feature)</a></li>\n",
      "</ul>\n",
      "</td>\n",
      "<td>\n",
      "<ul>\n",
      "<li>First officially released Warner Bros. cartoon.</li>\n",
      "<li>First publicly released Bosko cartoon; first appearance of Honey</li>\n",
      "<li>In the public domain in the United States.</li>\n",
      "</ul>\n",
      "</td>\n",
      "</tr>, <tr>\n",
      "<td><i><a href=\"/wiki/Congo_Jazz\" title=\"Congo Jazz\">Congo Jazz</a></i></td>\n",
      "<td>LT</td>\n",
      "<td>Max Maxwell<br/>\n",
      "Paul Smith</td>\n",
      "<td></td>\n",
      "<td>4167</td>\n",
      "<td>September 1930</td>\n",
      "<td>\n",
      "<ul>\n",
      "<li>DVD - <a href=\"/wiki/Looney_Tunes_Golden_Collection:_Volume_6\" title=\"Looney Tunes Golden Collection: Volume 6\">LTGC Volume 6, Disc 3</a></li>\n",
      "</ul>\n",
      "</td>\n",
      "<td>\n",
      "<ul>\n",
      "<li>Animation credit changes to \"Drawn by\" throughout the Harman-Ising era. Also, on this cartoon only, musical director Marsales is credited ahead of the animators. Smith (1906-1980) lasted ten years as a WB animator, later becoming animator and director for the Walter Lantz studio. He is the father of actor/director Charles Martin Smith. This cartoon contains a trombone solo that includes a sound which was later the origin of the classic WB sound effect \"Trombone Gobble.\"</li>\n",
      "<li>In the public domain in the United States.</li>\n",
      "</ul>\n",
      "</td>\n",
      "</tr>, <tr>\n",
      "<td><i><a href=\"/wiki/Hold_Anything\" title=\"Hold Anything\">Hold Anything</a></i></td>\n",
      "<td>LT</td>\n",
      "<td>Isadore Freleng<br/>\n",
      "Norm Blackburn</td>\n",
      "<td>Honey</td>\n",
      "<td>4229</td>\n",
      "<td>October 1930</td>\n",
      "<td>\n",
      "<ul>\n",
      "<li>DVD - <a class=\"new\" href=\"/w/index.php?title=Uncensored_Bosko:_Volume_1&amp;action=edit&amp;redlink=1\" title=\"Uncensored Bosko: Volume 1 (page does not exist)\">Uncensored Bosko: Volume 1</a> (unrestored)</li>\n",
      "</ul>\n",
      "</td>\n",
      "<td>\n",
      "<ul>\n",
      "<li>In the public domain in the United States.</li>\n",
      "</ul>\n",
      "</td>\n",
      "</tr>, <tr>\n",
      "<td><i><span class=\"sortkey\" style=\"display:none;\">Booze Hangs High, The !</span><span class=\"sorttext\"><a href=\"/wiki/The_Booze_Hangs_High\" title=\"The Booze Hangs High\">The Booze Hangs High</a></span></i></td>\n",
      "<td>LT</td>\n",
      "<td>Isadore Freleng<br/>\n",
      "Paul Smith</td>\n",
      "<td></td>\n",
      "<td>4340</td>\n",
      "<td>December 1930</td>\n",
      "<td>\n",
      "<ul>\n",
      "<li>DVD - <a href=\"/wiki/Looney_Tunes_Golden_Collection:_Volume_6\" title=\"Looney Tunes Golden Collection: Volume 6\">LTGC Volume 6, Disc 3</a></li>\n",
      "</ul>\n",
      "</td>\n",
      "<td>\n",
      "<ul>\n",
      "<li>In the public domain in the United States.</li>\n",
      "</ul>\n",
      "</td>\n",
      "</tr>, <tr>\n",
      "<td><i><a href=\"/wiki/Box_Car_Blues\" title=\"Box Car Blues\">Box Car Blues</a></i></td>\n",
      "<td>LT</td>\n",
      "<td>Rollin Hamilton<br/>\n",
      "Max Maxwell</td>\n",
      "<td></td>\n",
      "<td>4368</td>\n",
      "<td>December 1930</td>\n",
      "<td>\n",
      "<ul>\n",
      "<li>DVD - <a class=\"new\" href=\"/w/index.php?title=Uncensored_Bosko:_Volume_1&amp;action=edit&amp;redlink=1\" title=\"Uncensored Bosko: Volume 1 (page does not exist)\">Uncensored Bosko: Volume 1</a> (unrestored)</li>\n",
      "</ul>\n",
      "</td>\n",
      "<td>\n",
      "<ul>\n",
      "<li>In the public domain in the United States.</li>\n",
      "</ul>\n",
      "</td>\n",
      "</tr>]\n"
     ]
    }
   ],
   "source": [
    "print(allYears[0].find_all(\"tr\"))"
   ]
  },
  {
   "cell_type": "markdown",
   "metadata": {},
   "source": [
    "# the first \"tr\" block is of no interest"
   ]
  },
  {
   "cell_type": "code",
   "execution_count": 157,
   "metadata": {
    "collapsed": false,
    "scrolled": true
   },
   "outputs": [
    {
     "data": {
      "text/plain": [
       "[<tr>\n",
       " <td><i><a href=\"/wiki/Sinkin%27_in_the_Bathtub\" title=\"Sinkin' in the Bathtub\">Sinkin' in the Bathtub</a></i></td>\n",
       " <td>LT</td>\n",
       " <td><a href=\"/wiki/Friz_Freleng\" title=\"Friz Freleng\">Isadore Freleng</a>,<br/>\n",
       " Rollin Hamilton (unc.),<br/>\n",
       " Hugh Harman (unc.),<br/>\n",
       " Rudolf Ising (unc.)</td>\n",
       " <td>Honey</td>\n",
       " <td>4127</td>\n",
       " <td>April 19, 1930</td>\n",
       " <td>\n",
       " <ul>\n",
       " <li>DVD - <a href=\"/wiki/Looney_Tunes_Golden_Collection:_Volume_3\" title=\"Looney Tunes Golden Collection: Volume 3\">LTGC Volume 3, Disc 2 (special feature)</a></li>\n",
       " <li>Blu-ray - <a href=\"/wiki/Looney_Tunes_Platinum_Collection:_Volume_2\" title=\"Looney Tunes Platinum Collection: Volume 2\">LTPC Volume 2, Disc 3 (special feature)</a></li>\n",
       " </ul>\n",
       " </td>\n",
       " <td>\n",
       " <ul>\n",
       " <li>First officially released Warner Bros. cartoon.</li>\n",
       " <li>First publicly released Bosko cartoon; first appearance of Honey</li>\n",
       " <li>In the public domain in the United States.</li>\n",
       " </ul>\n",
       " </td>\n",
       " </tr>, <tr>\n",
       " <td><i><a href=\"/wiki/Congo_Jazz\" title=\"Congo Jazz\">Congo Jazz</a></i></td>\n",
       " <td>LT</td>\n",
       " <td>Max Maxwell<br/>\n",
       " Paul Smith</td>\n",
       " <td></td>\n",
       " <td>4167</td>\n",
       " <td>September 1930</td>\n",
       " <td>\n",
       " <ul>\n",
       " <li>DVD - <a href=\"/wiki/Looney_Tunes_Golden_Collection:_Volume_6\" title=\"Looney Tunes Golden Collection: Volume 6\">LTGC Volume 6, Disc 3</a></li>\n",
       " </ul>\n",
       " </td>\n",
       " <td>\n",
       " <ul>\n",
       " <li>Animation credit changes to \"Drawn by\" throughout the Harman-Ising era. Also, on this cartoon only, musical director Marsales is credited ahead of the animators. Smith (1906-1980) lasted ten years as a WB animator, later becoming animator and director for the Walter Lantz studio. He is the father of actor/director Charles Martin Smith. This cartoon contains a trombone solo that includes a sound which was later the origin of the classic WB sound effect \"Trombone Gobble.\"</li>\n",
       " <li>In the public domain in the United States.</li>\n",
       " </ul>\n",
       " </td>\n",
       " </tr>, <tr>\n",
       " <td><i><a href=\"/wiki/Hold_Anything\" title=\"Hold Anything\">Hold Anything</a></i></td>\n",
       " <td>LT</td>\n",
       " <td>Isadore Freleng<br/>\n",
       " Norm Blackburn</td>\n",
       " <td>Honey</td>\n",
       " <td>4229</td>\n",
       " <td>October 1930</td>\n",
       " <td>\n",
       " <ul>\n",
       " <li>DVD - <a class=\"new\" href=\"/w/index.php?title=Uncensored_Bosko:_Volume_1&amp;action=edit&amp;redlink=1\" title=\"Uncensored Bosko: Volume 1 (page does not exist)\">Uncensored Bosko: Volume 1</a> (unrestored)</li>\n",
       " </ul>\n",
       " </td>\n",
       " <td>\n",
       " <ul>\n",
       " <li>In the public domain in the United States.</li>\n",
       " </ul>\n",
       " </td>\n",
       " </tr>, <tr>\n",
       " <td><i><span class=\"sortkey\" style=\"display:none;\">Booze Hangs High, The !</span><span class=\"sorttext\"><a href=\"/wiki/The_Booze_Hangs_High\" title=\"The Booze Hangs High\">The Booze Hangs High</a></span></i></td>\n",
       " <td>LT</td>\n",
       " <td>Isadore Freleng<br/>\n",
       " Paul Smith</td>\n",
       " <td></td>\n",
       " <td>4340</td>\n",
       " <td>December 1930</td>\n",
       " <td>\n",
       " <ul>\n",
       " <li>DVD - <a href=\"/wiki/Looney_Tunes_Golden_Collection:_Volume_6\" title=\"Looney Tunes Golden Collection: Volume 6\">LTGC Volume 6, Disc 3</a></li>\n",
       " </ul>\n",
       " </td>\n",
       " <td>\n",
       " <ul>\n",
       " <li>In the public domain in the United States.</li>\n",
       " </ul>\n",
       " </td>\n",
       " </tr>, <tr>\n",
       " <td><i><a href=\"/wiki/Box_Car_Blues\" title=\"Box Car Blues\">Box Car Blues</a></i></td>\n",
       " <td>LT</td>\n",
       " <td>Rollin Hamilton<br/>\n",
       " Max Maxwell</td>\n",
       " <td></td>\n",
       " <td>4368</td>\n",
       " <td>December 1930</td>\n",
       " <td>\n",
       " <ul>\n",
       " <li>DVD - <a class=\"new\" href=\"/w/index.php?title=Uncensored_Bosko:_Volume_1&amp;action=edit&amp;redlink=1\" title=\"Uncensored Bosko: Volume 1 (page does not exist)\">Uncensored Bosko: Volume 1</a> (unrestored)</li>\n",
       " </ul>\n",
       " </td>\n",
       " <td>\n",
       " <ul>\n",
       " <li>In the public domain in the United States.</li>\n",
       " </ul>\n",
       " </td>\n",
       " </tr>]"
      ]
     },
     "execution_count": 157,
     "metadata": {},
     "output_type": "execute_result"
    }
   ],
   "source": [
    "allEpisodesFromFirstYear = allYears[0].find_all(\"tr\")[1:]\n",
    "allEpisodesFromFirstYear"
   ]
  },
  {
   "cell_type": "markdown",
   "metadata": {},
   "source": [
    "# this is the html for the first episode.\n",
    "each \"td\" tag is an attribute of the episode"
   ]
  },
  {
   "cell_type": "code",
   "execution_count": 158,
   "metadata": {
    "collapsed": false
   },
   "outputs": [
    {
     "data": {
      "text/plain": [
       "[<td><i><a href=\"/wiki/Sinkin%27_in_the_Bathtub\" title=\"Sinkin' in the Bathtub\">Sinkin' in the Bathtub</a></i></td>,\n",
       " <td>LT</td>,\n",
       " <td><a href=\"/wiki/Friz_Freleng\" title=\"Friz Freleng\">Isadore Freleng</a>,<br/>\n",
       " Rollin Hamilton (unc.),<br/>\n",
       " Hugh Harman (unc.),<br/>\n",
       " Rudolf Ising (unc.)</td>,\n",
       " <td>Honey</td>,\n",
       " <td>4127</td>,\n",
       " <td>April 19, 1930</td>,\n",
       " <td>\n",
       " <ul>\n",
       " <li>DVD - <a href=\"/wiki/Looney_Tunes_Golden_Collection:_Volume_3\" title=\"Looney Tunes Golden Collection: Volume 3\">LTGC Volume 3, Disc 2 (special feature)</a></li>\n",
       " <li>Blu-ray - <a href=\"/wiki/Looney_Tunes_Platinum_Collection:_Volume_2\" title=\"Looney Tunes Platinum Collection: Volume 2\">LTPC Volume 2, Disc 3 (special feature)</a></li>\n",
       " </ul>\n",
       " </td>,\n",
       " <td>\n",
       " <ul>\n",
       " <li>First officially released Warner Bros. cartoon.</li>\n",
       " <li>First publicly released Bosko cartoon; first appearance of Honey</li>\n",
       " <li>In the public domain in the United States.</li>\n",
       " </ul>\n",
       " </td>]"
      ]
     },
     "execution_count": 158,
     "metadata": {},
     "output_type": "execute_result"
    }
   ],
   "source": [
    "firstEpisodeSoup = allEpisodesFromFirstYear[0].find_all(\"td\")\n",
    "firstEpisodeSoup"
   ]
  },
  {
   "cell_type": "markdown",
   "metadata": {},
   "source": [
    "# Getting the attributes of value and putting into dictionary"
   ]
  },
  {
   "cell_type": "code",
   "execution_count": 193,
   "metadata": {
    "collapsed": false
   },
   "outputs": [
    {
     "data": {
      "text/plain": [
       "{'Animator': ['Isadore Freleng',\n",
       "  'Rollin Hamilton (unc.)',\n",
       "  'Hugh Harman (unc.)',\n",
       "  'Rudolf Ising (unc.)'],\n",
       " 'Character': ['Honey'],\n",
       " 'Date': 'April 19, 1930',\n",
       " 'ID': '4127',\n",
       " 'Series': 'LT',\n",
       " 'Title': \"Sinkin' in the Bathtub\"}"
      ]
     },
     "execution_count": 193,
     "metadata": {},
     "output_type": "execute_result"
    }
   ],
   "source": [
    "episode = {}\n",
    "episode[\"Title\"] = firstEpisodeSoup[0].get_text()\n",
    "episode[\"Series\"] = firstEpisodeSoup[1].get_text()\n",
    "\n",
    "myList = str(firstEpisodeSoup[2]).split(\"<br/>\")\n",
    "animators = []\n",
    "for a in myList:\n",
    "    animators.append(re.sub('<[^<]+?>', '',a).replace(\",\",\"\").replace(\"\\n\",\"\"))\n",
    "episode[\"Animator\"] = animators\n",
    "\n",
    "myList = str(firstEpisodeSoup[3]).split(\"<br/>\")\n",
    "characters = []\n",
    "for a in myList:\n",
    "    characters.append(re.sub('<[^<]+?>', '',a).replace(\",\",\"\").replace(\"\\n\",\"\"))\n",
    "episode[\"Character\"] = characters\n",
    "episode[\"ID\"] = firstEpisodeSoup[4].get_text()\n",
    "episode[\"Date\"] = firstEpisodeSoup[5].get_text()\n",
    "episode"
   ]
  },
  {
   "cell_type": "code",
   "execution_count": 217,
   "metadata": {
    "collapsed": false
   },
   "outputs": [],
   "source": [
    "def parseOneEpisodeSoup(episodeSoup):\n",
    "    episode = {}\n",
    "    for a in episodeSoup:\n",
    "        print(a)\n",
    "    episode[\"Title\"] = episodeSoup[0].get_text()\n",
    "    episode[\"Series\"] = episodeSoup[1].get_text()\n",
    "    myList = str(episodeSoup[2]).split(\"<br/>\")\n",
    "    animators = []\n",
    "    for a in myList:\n",
    "        animators.append(re.sub('<[^<]+?>', '',a).replace(\",\",\"\").replace(\"\\n\",\"\"))\n",
    "    episode[\"Animator\"] = animators\n",
    "\n",
    "    myList = str(episodeSoup[3]).split(\"<br/>\")\n",
    "    characters = []\n",
    "    for a in myList:\n",
    "        characters.append(re.sub('<[^<]+?>', '',a).replace(\",\",\"\").replace(\"\\n\",\"\"))\n",
    "    episode[\"Character\"] = characters\n",
    "    episode[\"ID\"] = episodeSoup[4].get_text()\n",
    "    episode[\"Date\"] = episodeSoup[5].get_text()\n",
    "\n",
    "    return(episode)"
   ]
  },
  {
   "cell_type": "code",
   "execution_count": 218,
   "metadata": {
    "collapsed": false
   },
   "outputs": [],
   "source": [
    "def parseOneYearSoup(yearSoup):\n",
    "    allEpisodesSoup = yearSoup.find_all(\"tr\")[1:]\n",
    "    yearList = []\n",
    "    for episodeSoup in allEpisodesSoup:\n",
    "        yearList.append(parseOneEpisodeSoup(episodeSoup))\n",
    "    return(yearList)"
   ]
  },
  {
   "cell_type": "code",
   "execution_count": 219,
   "metadata": {
    "collapsed": true
   },
   "outputs": [],
   "source": [
    "def parseOneWikipediaPageSoup(wikipediaSoup):\n",
    "    allYearsSoup = wikipediaSoup.find_all(\"table\", class_=\"wikitable sortable\")\n",
    "    pageList = []\n",
    "    for yearSoup in allYearsSoup:\n",
    "        pageList.append(parseOneYearSoup(yearSoup))\n",
    "    return(pageList)"
   ]
  },
  {
   "cell_type": "code",
   "execution_count": 220,
   "metadata": {
    "collapsed": false
   },
   "outputs": [],
   "source": [
    "#print(parseOneWikipediaPageSoup(soup))"
   ]
  },
  {
   "cell_type": "code",
   "execution_count": 221,
   "metadata": {
    "collapsed": false
   },
   "outputs": [
    {
     "name": "stdout",
     "output_type": "stream",
     "text": [
      "<td><i><a href=\"/wiki/Sinkin%27_in_the_Bathtub\" title=\"Sinkin' in the Bathtub\">Sinkin' in the Bathtub</a></i></td>\n",
      "<td>LT</td>\n",
      "<td><a href=\"/wiki/Friz_Freleng\" title=\"Friz Freleng\">Isadore Freleng</a>,<br/>\n",
      "Rollin Hamilton (unc.),<br/>\n",
      "Hugh Harman (unc.),<br/>\n",
      "Rudolf Ising (unc.)</td>\n",
      "<td>Honey</td>\n",
      "<td>4127</td>\n",
      "<td>April 19, 1930</td>\n",
      "<td>\n",
      "<ul>\n",
      "<li>DVD - <a href=\"/wiki/Looney_Tunes_Golden_Collection:_Volume_3\" title=\"Looney Tunes Golden Collection: Volume 3\">LTGC Volume 3, Disc 2 (special feature)</a></li>\n",
      "<li>Blu-ray - <a href=\"/wiki/Looney_Tunes_Platinum_Collection:_Volume_2\" title=\"Looney Tunes Platinum Collection: Volume 2\">LTPC Volume 2, Disc 3 (special feature)</a></li>\n",
      "</ul>\n",
      "</td>\n",
      "<td>\n",
      "<ul>\n",
      "<li>First officially released Warner Bros. cartoon.</li>\n",
      "<li>First publicly released Bosko cartoon; first appearance of Honey</li>\n",
      "<li>In the public domain in the United States.</li>\n",
      "</ul>\n",
      "</td>\n"
     ]
    },
    {
     "data": {
      "text/plain": [
       "{'Animator': ['Isadore Freleng',\n",
       "  'Rollin Hamilton (unc.)',\n",
       "  'Hugh Harman (unc.)',\n",
       "  'Rudolf Ising (unc.)'],\n",
       " 'Character': ['Honey'],\n",
       " 'Date': 'April 19, 1930',\n",
       " 'ID': '4127',\n",
       " 'Series': 'LT',\n",
       " 'Title': \"Sinkin' in the Bathtub\"}"
      ]
     },
     "execution_count": 221,
     "metadata": {},
     "output_type": "execute_result"
    }
   ],
   "source": [
    "parseOneEpisodeSoup(firstEpisodeSoup)"
   ]
  },
  {
   "cell_type": "code",
   "execution_count": 222,
   "metadata": {
    "collapsed": false,
    "scrolled": true
   },
   "outputs": [
    {
     "ename": "SyntaxError",
     "evalue": "unexpected EOF while parsing (<ipython-input-222-eb2a308f8410>, line 1)",
     "output_type": "error",
     "traceback": [
      "\u001b[0;36m  File \u001b[0;32m\"<ipython-input-222-eb2a308f8410>\"\u001b[0;36m, line \u001b[0;32m1\u001b[0m\n\u001b[0;31m    print(parseOneYearSoup(allEpisodesFromFirstYear)\u001b[0m\n\u001b[0m                                                    ^\u001b[0m\n\u001b[0;31mSyntaxError\u001b[0m\u001b[0;31m:\u001b[0m unexpected EOF while parsing\n"
     ]
    }
   ],
   "source": [
    "print(parseOneYearSoup(allEpisodesFromFirstYear)\n"
   ]
  },
  {
   "cell_type": "code",
   "execution_count": null,
   "metadata": {
    "collapsed": true
   },
   "outputs": [],
   "source": []
  },
  {
   "cell_type": "code",
   "execution_count": null,
   "metadata": {
    "collapsed": true
   },
   "outputs": [],
   "source": []
  }
 ],
 "metadata": {
  "kernelspec": {
   "display_name": "Python [Root]",
   "language": "python",
   "name": "Python [Root]"
  },
  "language_info": {
   "codemirror_mode": {
    "name": "ipython",
    "version": 3
   },
   "file_extension": ".py",
   "mimetype": "text/x-python",
   "name": "python",
   "nbconvert_exporter": "python",
   "pygments_lexer": "ipython3",
   "version": "3.5.2"
  }
 },
 "nbformat": 4,
 "nbformat_minor": 0
}
