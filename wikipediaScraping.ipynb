{
 "cells": [
  {
   "cell_type": "code",
   "execution_count": 249,
   "metadata": {
    "collapsed": false
   },
   "outputs": [],
   "source": [
    "from bs4 import BeautifulSoup\n",
    "import urllib.request\n",
    "import re"
   ]
  },
  {
   "cell_type": "code",
   "execution_count": 250,
   "metadata": {
    "collapsed": false
   },
   "outputs": [
    {
     "name": "stdout",
     "output_type": "stream",
     "text": [
      "<class 'bs4.BeautifulSoup'>\n"
     ]
    }
   ],
   "source": [
    "with urllib.request.urlopen('https://en.wikipedia.org/wiki/Looney_Tunes_and_Merrie_Melodies_filmography_(1929-1939)') as url:\n",
    "    r = url.read()\n",
    "soup = BeautifulSoup(r, \"lxml\")\n",
    "print(type(soup))"
   ]
  },
  {
   "cell_type": "markdown",
   "metadata": {},
   "source": [
    "# allYears is a list of html blocks that describes each year of looney toons cartoons"
   ]
  },
  {
   "cell_type": "code",
   "execution_count": 251,
   "metadata": {
    "collapsed": true
   },
   "outputs": [],
   "source": [
    "allYears = soup.find_all(\"table\", class_=\"wikitable sortable\")"
   ]
  },
  {
   "cell_type": "markdown",
   "metadata": {},
   "source": [
    "# allYears[0] is the cartoons for the first year from that url"
   ]
  },
  {
   "cell_type": "code",
   "execution_count": 252,
   "metadata": {
    "collapsed": false
   },
   "outputs": [
    {
     "data": {
      "text/plain": [
       "<table class=\"wikitable sortable\">\n",
       "<tr>\n",
       "<th scope=\"col\" style=\"width: 150px;\">Title</th>\n",
       "<th scope=\"col\" style=\"width: 50px;\">Series</th>\n",
       "<th scope=\"col\" style=\"width: 100px;\">Drawn By (Animated)</th>\n",
       "<th scope=\"col\" style=\"width: 200px;\">Characters</th>\n",
       "<th scope=\"col\" style=\"width: 100px;\">Identification Numbers</th>\n",
       "<th scope=\"col\" style=\"width: 125px;\">Release date</th>\n",
       "<th scope=\"col\" style=\"width: 400px;\">Availability</th>\n",
       "<th>Notes</th>\n",
       "</tr>\n",
       "<tr>\n",
       "<td><i><a href=\"/wiki/Sinkin%27_in_the_Bathtub\" title=\"Sinkin' in the Bathtub\">Sinkin' in the Bathtub</a></i></td>\n",
       "<td>LT</td>\n",
       "<td><a href=\"/wiki/Friz_Freleng\" title=\"Friz Freleng\">Isadore Freleng</a>,<br/>\n",
       "Rollin Hamilton (unc.),<br/>\n",
       "Hugh Harman (unc.),<br/>\n",
       "Rudolf Ising (unc.)</td>\n",
       "<td>Honey</td>\n",
       "<td>4127</td>\n",
       "<td>April 19, 1930</td>\n",
       "<td>\n",
       "<ul>\n",
       "<li>DVD - <a href=\"/wiki/Looney_Tunes_Golden_Collection:_Volume_3\" title=\"Looney Tunes Golden Collection: Volume 3\">LTGC Volume 3, Disc 2 (special feature)</a></li>\n",
       "<li>Blu-ray - <a href=\"/wiki/Looney_Tunes_Platinum_Collection:_Volume_2\" title=\"Looney Tunes Platinum Collection: Volume 2\">LTPC Volume 2, Disc 3 (special feature)</a></li>\n",
       "</ul>\n",
       "</td>\n",
       "<td>\n",
       "<ul>\n",
       "<li>First officially released Warner Bros. cartoon.</li>\n",
       "<li>First publicly released Bosko cartoon; first appearance of Honey</li>\n",
       "<li>In the public domain in the United States.</li>\n",
       "</ul>\n",
       "</td>\n",
       "</tr>\n",
       "<tr>\n",
       "<td><i><a href=\"/wiki/Congo_Jazz\" title=\"Congo Jazz\">Congo Jazz</a></i></td>\n",
       "<td>LT</td>\n",
       "<td>Max Maxwell<br/>\n",
       "Paul Smith</td>\n",
       "<td></td>\n",
       "<td>4167</td>\n",
       "<td>September 1930</td>\n",
       "<td>\n",
       "<ul>\n",
       "<li>DVD - <a href=\"/wiki/Looney_Tunes_Golden_Collection:_Volume_6\" title=\"Looney Tunes Golden Collection: Volume 6\">LTGC Volume 6, Disc 3</a></li>\n",
       "</ul>\n",
       "</td>\n",
       "<td>\n",
       "<ul>\n",
       "<li>Animation credit changes to \"Drawn by\" throughout the Harman-Ising era. Also, on this cartoon only, musical director Marsales is credited ahead of the animators. Smith (1906-1980) lasted ten years as a WB animator, later becoming animator and director for the Walter Lantz studio. He is the father of actor/director Charles Martin Smith. This cartoon contains a trombone solo that includes a sound which was later the origin of the classic WB sound effect \"Trombone Gobble.\"</li>\n",
       "<li>In the public domain in the United States.</li>\n",
       "</ul>\n",
       "</td>\n",
       "</tr>\n",
       "<tr>\n",
       "<td><i><a href=\"/wiki/Hold_Anything\" title=\"Hold Anything\">Hold Anything</a></i></td>\n",
       "<td>LT</td>\n",
       "<td>Isadore Freleng<br/>\n",
       "Norm Blackburn</td>\n",
       "<td>Honey</td>\n",
       "<td>4229</td>\n",
       "<td>October 1930</td>\n",
       "<td>\n",
       "<ul>\n",
       "<li>DVD - <a class=\"new\" href=\"/w/index.php?title=Uncensored_Bosko:_Volume_1&amp;action=edit&amp;redlink=1\" title=\"Uncensored Bosko: Volume 1 (page does not exist)\">Uncensored Bosko: Volume 1</a> (unrestored)</li>\n",
       "</ul>\n",
       "</td>\n",
       "<td>\n",
       "<ul>\n",
       "<li>In the public domain in the United States.</li>\n",
       "</ul>\n",
       "</td>\n",
       "</tr>\n",
       "<tr>\n",
       "<td><i><span class=\"sortkey\" style=\"display:none;\">Booze Hangs High, The !</span><span class=\"sorttext\"><a href=\"/wiki/The_Booze_Hangs_High\" title=\"The Booze Hangs High\">The Booze Hangs High</a></span></i></td>\n",
       "<td>LT</td>\n",
       "<td>Isadore Freleng<br/>\n",
       "Paul Smith</td>\n",
       "<td></td>\n",
       "<td>4340</td>\n",
       "<td>December 1930</td>\n",
       "<td>\n",
       "<ul>\n",
       "<li>DVD - <a href=\"/wiki/Looney_Tunes_Golden_Collection:_Volume_6\" title=\"Looney Tunes Golden Collection: Volume 6\">LTGC Volume 6, Disc 3</a></li>\n",
       "</ul>\n",
       "</td>\n",
       "<td>\n",
       "<ul>\n",
       "<li>In the public domain in the United States.</li>\n",
       "</ul>\n",
       "</td>\n",
       "</tr>\n",
       "<tr>\n",
       "<td><i><a href=\"/wiki/Box_Car_Blues\" title=\"Box Car Blues\">Box Car Blues</a></i></td>\n",
       "<td>LT</td>\n",
       "<td>Rollin Hamilton<br/>\n",
       "Max Maxwell</td>\n",
       "<td></td>\n",
       "<td>4368</td>\n",
       "<td>December 1930</td>\n",
       "<td>\n",
       "<ul>\n",
       "<li>DVD - <a class=\"new\" href=\"/w/index.php?title=Uncensored_Bosko:_Volume_1&amp;action=edit&amp;redlink=1\" title=\"Uncensored Bosko: Volume 1 (page does not exist)\">Uncensored Bosko: Volume 1</a> (unrestored)</li>\n",
       "</ul>\n",
       "</td>\n",
       "<td>\n",
       "<ul>\n",
       "<li>In the public domain in the United States.</li>\n",
       "</ul>\n",
       "</td>\n",
       "</tr>\n",
       "</table>"
      ]
     },
     "execution_count": 252,
     "metadata": {},
     "output_type": "execute_result"
    }
   ],
   "source": [
    "allYears[0]"
   ]
  },
  {
   "cell_type": "markdown",
   "metadata": {},
   "source": [
    "# allYears[0].tr is the first tr block found in allYears[0]"
   ]
  },
  {
   "cell_type": "code",
   "execution_count": 253,
   "metadata": {
    "collapsed": false,
    "scrolled": true
   },
   "outputs": [
    {
     "data": {
      "text/plain": [
       "<tr>\n",
       "<th scope=\"col\" style=\"width: 150px;\">Title</th>\n",
       "<th scope=\"col\" style=\"width: 50px;\">Series</th>\n",
       "<th scope=\"col\" style=\"width: 100px;\">Drawn By (Animated)</th>\n",
       "<th scope=\"col\" style=\"width: 200px;\">Characters</th>\n",
       "<th scope=\"col\" style=\"width: 100px;\">Identification Numbers</th>\n",
       "<th scope=\"col\" style=\"width: 125px;\">Release date</th>\n",
       "<th scope=\"col\" style=\"width: 400px;\">Availability</th>\n",
       "<th>Notes</th>\n",
       "</tr>"
      ]
     },
     "execution_count": 253,
     "metadata": {},
     "output_type": "execute_result"
    }
   ],
   "source": [
    "allYears[0].tr"
   ]
  },
  {
   "cell_type": "markdown",
   "metadata": {},
   "source": [
    "# allYears[0].find_all(\"tr\") is a list of all of the tr blocks found in allYears[0]"
   ]
  },
  {
   "cell_type": "code",
   "execution_count": 254,
   "metadata": {
    "collapsed": false
   },
   "outputs": [],
   "source": [
    "#print(allYears[0].find_all(\"tr\"))"
   ]
  },
  {
   "cell_type": "markdown",
   "metadata": {},
   "source": [
    "# the first \"tr\" block is of no interest"
   ]
  },
  {
   "cell_type": "code",
   "execution_count": 255,
   "metadata": {
    "collapsed": false,
    "scrolled": true
   },
   "outputs": [
    {
     "data": {
      "text/plain": [
       "[<tr>\n",
       " <td><i><a href=\"/wiki/Sinkin%27_in_the_Bathtub\" title=\"Sinkin' in the Bathtub\">Sinkin' in the Bathtub</a></i></td>\n",
       " <td>LT</td>\n",
       " <td><a href=\"/wiki/Friz_Freleng\" title=\"Friz Freleng\">Isadore Freleng</a>,<br/>\n",
       " Rollin Hamilton (unc.),<br/>\n",
       " Hugh Harman (unc.),<br/>\n",
       " Rudolf Ising (unc.)</td>\n",
       " <td>Honey</td>\n",
       " <td>4127</td>\n",
       " <td>April 19, 1930</td>\n",
       " <td>\n",
       " <ul>\n",
       " <li>DVD - <a href=\"/wiki/Looney_Tunes_Golden_Collection:_Volume_3\" title=\"Looney Tunes Golden Collection: Volume 3\">LTGC Volume 3, Disc 2 (special feature)</a></li>\n",
       " <li>Blu-ray - <a href=\"/wiki/Looney_Tunes_Platinum_Collection:_Volume_2\" title=\"Looney Tunes Platinum Collection: Volume 2\">LTPC Volume 2, Disc 3 (special feature)</a></li>\n",
       " </ul>\n",
       " </td>\n",
       " <td>\n",
       " <ul>\n",
       " <li>First officially released Warner Bros. cartoon.</li>\n",
       " <li>First publicly released Bosko cartoon; first appearance of Honey</li>\n",
       " <li>In the public domain in the United States.</li>\n",
       " </ul>\n",
       " </td>\n",
       " </tr>, <tr>\n",
       " <td><i><a href=\"/wiki/Congo_Jazz\" title=\"Congo Jazz\">Congo Jazz</a></i></td>\n",
       " <td>LT</td>\n",
       " <td>Max Maxwell<br/>\n",
       " Paul Smith</td>\n",
       " <td></td>\n",
       " <td>4167</td>\n",
       " <td>September 1930</td>\n",
       " <td>\n",
       " <ul>\n",
       " <li>DVD - <a href=\"/wiki/Looney_Tunes_Golden_Collection:_Volume_6\" title=\"Looney Tunes Golden Collection: Volume 6\">LTGC Volume 6, Disc 3</a></li>\n",
       " </ul>\n",
       " </td>\n",
       " <td>\n",
       " <ul>\n",
       " <li>Animation credit changes to \"Drawn by\" throughout the Harman-Ising era. Also, on this cartoon only, musical director Marsales is credited ahead of the animators. Smith (1906-1980) lasted ten years as a WB animator, later becoming animator and director for the Walter Lantz studio. He is the father of actor/director Charles Martin Smith. This cartoon contains a trombone solo that includes a sound which was later the origin of the classic WB sound effect \"Trombone Gobble.\"</li>\n",
       " <li>In the public domain in the United States.</li>\n",
       " </ul>\n",
       " </td>\n",
       " </tr>, <tr>\n",
       " <td><i><a href=\"/wiki/Hold_Anything\" title=\"Hold Anything\">Hold Anything</a></i></td>\n",
       " <td>LT</td>\n",
       " <td>Isadore Freleng<br/>\n",
       " Norm Blackburn</td>\n",
       " <td>Honey</td>\n",
       " <td>4229</td>\n",
       " <td>October 1930</td>\n",
       " <td>\n",
       " <ul>\n",
       " <li>DVD - <a class=\"new\" href=\"/w/index.php?title=Uncensored_Bosko:_Volume_1&amp;action=edit&amp;redlink=1\" title=\"Uncensored Bosko: Volume 1 (page does not exist)\">Uncensored Bosko: Volume 1</a> (unrestored)</li>\n",
       " </ul>\n",
       " </td>\n",
       " <td>\n",
       " <ul>\n",
       " <li>In the public domain in the United States.</li>\n",
       " </ul>\n",
       " </td>\n",
       " </tr>, <tr>\n",
       " <td><i><span class=\"sortkey\" style=\"display:none;\">Booze Hangs High, The !</span><span class=\"sorttext\"><a href=\"/wiki/The_Booze_Hangs_High\" title=\"The Booze Hangs High\">The Booze Hangs High</a></span></i></td>\n",
       " <td>LT</td>\n",
       " <td>Isadore Freleng<br/>\n",
       " Paul Smith</td>\n",
       " <td></td>\n",
       " <td>4340</td>\n",
       " <td>December 1930</td>\n",
       " <td>\n",
       " <ul>\n",
       " <li>DVD - <a href=\"/wiki/Looney_Tunes_Golden_Collection:_Volume_6\" title=\"Looney Tunes Golden Collection: Volume 6\">LTGC Volume 6, Disc 3</a></li>\n",
       " </ul>\n",
       " </td>\n",
       " <td>\n",
       " <ul>\n",
       " <li>In the public domain in the United States.</li>\n",
       " </ul>\n",
       " </td>\n",
       " </tr>, <tr>\n",
       " <td><i><a href=\"/wiki/Box_Car_Blues\" title=\"Box Car Blues\">Box Car Blues</a></i></td>\n",
       " <td>LT</td>\n",
       " <td>Rollin Hamilton<br/>\n",
       " Max Maxwell</td>\n",
       " <td></td>\n",
       " <td>4368</td>\n",
       " <td>December 1930</td>\n",
       " <td>\n",
       " <ul>\n",
       " <li>DVD - <a class=\"new\" href=\"/w/index.php?title=Uncensored_Bosko:_Volume_1&amp;action=edit&amp;redlink=1\" title=\"Uncensored Bosko: Volume 1 (page does not exist)\">Uncensored Bosko: Volume 1</a> (unrestored)</li>\n",
       " </ul>\n",
       " </td>\n",
       " <td>\n",
       " <ul>\n",
       " <li>In the public domain in the United States.</li>\n",
       " </ul>\n",
       " </td>\n",
       " </tr>]"
      ]
     },
     "execution_count": 255,
     "metadata": {},
     "output_type": "execute_result"
    }
   ],
   "source": [
    "allEpisodesFromFirstYear = allYears[0].find_all(\"tr\")[1:]\n",
    "allEpisodesFromFirstYear"
   ]
  },
  {
   "cell_type": "markdown",
   "metadata": {},
   "source": [
    "# this is the html for the first episode.\n",
    "each \"td\" tag is an attribute of the episode"
   ]
  },
  {
   "cell_type": "code",
   "execution_count": 256,
   "metadata": {
    "collapsed": false
   },
   "outputs": [
    {
     "data": {
      "text/plain": [
       "[<td><i><a href=\"/wiki/Sinkin%27_in_the_Bathtub\" title=\"Sinkin' in the Bathtub\">Sinkin' in the Bathtub</a></i></td>,\n",
       " <td>LT</td>,\n",
       " <td><a href=\"/wiki/Friz_Freleng\" title=\"Friz Freleng\">Isadore Freleng</a>,<br/>\n",
       " Rollin Hamilton (unc.),<br/>\n",
       " Hugh Harman (unc.),<br/>\n",
       " Rudolf Ising (unc.)</td>,\n",
       " <td>Honey</td>,\n",
       " <td>4127</td>,\n",
       " <td>April 19, 1930</td>,\n",
       " <td>\n",
       " <ul>\n",
       " <li>DVD - <a href=\"/wiki/Looney_Tunes_Golden_Collection:_Volume_3\" title=\"Looney Tunes Golden Collection: Volume 3\">LTGC Volume 3, Disc 2 (special feature)</a></li>\n",
       " <li>Blu-ray - <a href=\"/wiki/Looney_Tunes_Platinum_Collection:_Volume_2\" title=\"Looney Tunes Platinum Collection: Volume 2\">LTPC Volume 2, Disc 3 (special feature)</a></li>\n",
       " </ul>\n",
       " </td>,\n",
       " <td>\n",
       " <ul>\n",
       " <li>First officially released Warner Bros. cartoon.</li>\n",
       " <li>First publicly released Bosko cartoon; first appearance of Honey</li>\n",
       " <li>In the public domain in the United States.</li>\n",
       " </ul>\n",
       " </td>]"
      ]
     },
     "execution_count": 256,
     "metadata": {},
     "output_type": "execute_result"
    }
   ],
   "source": [
    "firstEpisodeSoup = allEpisodesFromFirstYear[0].find_all(\"td\")\n",
    "firstEpisodeSoup"
   ]
  },
  {
   "cell_type": "markdown",
   "metadata": {},
   "source": [
    "# Getting the attributes of value and putting into dictionary"
   ]
  },
  {
   "cell_type": "code",
   "execution_count": 257,
   "metadata": {
    "collapsed": false
   },
   "outputs": [
    {
     "data": {
      "text/plain": [
       "{'Animator': ['Isadore Freleng',\n",
       "  'Rollin Hamilton (unc.)',\n",
       "  'Hugh Harman (unc.)',\n",
       "  'Rudolf Ising (unc.)'],\n",
       " 'Character': ['Honey'],\n",
       " 'Date': 'April 19, 1930',\n",
       " 'ID': '4127',\n",
       " 'Series': 'LT',\n",
       " 'Title': \"Sinkin' in the Bathtub\"}"
      ]
     },
     "execution_count": 257,
     "metadata": {},
     "output_type": "execute_result"
    }
   ],
   "source": [
    "episode = {}\n",
    "episode[\"Title\"] = firstEpisodeSoup[0].get_text()\n",
    "episode[\"Series\"] = firstEpisodeSoup[1].get_text()\n",
    "\n",
    "myList = str(firstEpisodeSoup[2]).split(\"<br/>\")\n",
    "animators = []\n",
    "for a in myList:\n",
    "    animators.append(re.sub('<[^<]+?>', '',a).replace(\",\",\"\").replace(\"\\n\",\"\"))\n",
    "episode[\"Animator\"] = animators\n",
    "\n",
    "myList = str(firstEpisodeSoup[3]).split(\"<br/>\")\n",
    "characters = []\n",
    "for a in myList:\n",
    "    characters.append(re.sub('<[^<]+?>', '',a).replace(\",\",\"\").replace(\"\\n\",\"\"))\n",
    "episode[\"Character\"] = characters\n",
    "episode[\"ID\"] = firstEpisodeSoup[4].get_text()\n",
    "episode[\"Date\"] = firstEpisodeSoup[5].get_text()\n",
    "episode"
   ]
  },
  {
   "cell_type": "code",
   "execution_count": 258,
   "metadata": {
    "collapsed": false
   },
   "outputs": [],
   "source": [
    "def parseOneEpisodeSoup(episodeSoup):\n",
    "    episode = {}\n",
    "    episode[\"Title\"] = episodeSoup[0].get_text()\n",
    "    episode[\"Series\"] = episodeSoup[1].get_text()\n",
    "    myList = str(episodeSoup[2]).split(\"<br/>\")\n",
    "    animators = []\n",
    "    for a in myList:\n",
    "        animators.append(re.sub('<[^<]+?>', '',a).replace(\",\",\"\").replace(\"\\n\",\"\"))\n",
    "    episode[\"Animator\"] = animators\n",
    "\n",
    "    myList = str(episodeSoup[3]).split(\"<br/>\")\n",
    "    characters = []\n",
    "    for a in myList:\n",
    "        characters.append(re.sub('<[^<]+?>', '',a).replace(\",\",\"\").replace(\"\\n\",\"\"))\n",
    "    episode[\"Character\"] = characters\n",
    "    episode[\"ID\"] = episodeSoup[4].get_text()\n",
    "    episode[\"Date\"] = episodeSoup[5].get_text()\n",
    "    return(episode)"
   ]
  },
  {
   "cell_type": "code",
   "execution_count": 259,
   "metadata": {
    "collapsed": false
   },
   "outputs": [],
   "source": [
    "def parseOneYearSoup(yearSoup):\n",
    "    allEpisodesList = yearSoup.find_all(\"tr\")[1:]\n",
    "    yearList = []\n",
    "    for episodeSoup in allEpisodesList:\n",
    "        yearList.append(parseOneEpisodeSoup(episodeSoup))\n",
    "    return(yearList)"
   ]
  },
  {
   "cell_type": "code",
   "execution_count": 260,
   "metadata": {
    "collapsed": true
   },
   "outputs": [],
   "source": [
    "def parseOneWikipediaPageSoup(wikipediaSoup):\n",
    "    allYearsList = wikipediaSoup.find_all(\"table\", class_=\"wikitable sortable\")\n",
    "    pageList = []\n",
    "    for yearSoup in allYearsList:\n",
    "        pageList.append(parseOneYearSoup(yearSoup))\n",
    "    return(pageList)"
   ]
  },
  {
   "cell_type": "code",
   "execution_count": 263,
   "metadata": {
    "collapsed": false
   },
   "outputs": [
    {
     "ename": "KeyError",
     "evalue": "0",
     "output_type": "error",
     "traceback": [
      "\u001b[0;31m---------------------------------------------------------------------------\u001b[0m",
      "\u001b[0;31mKeyError\u001b[0m                                  Traceback (most recent call last)",
      "\u001b[0;32m<ipython-input-263-9d0b613d0fdd>\u001b[0m in \u001b[0;36m<module>\u001b[0;34m()\u001b[0m\n\u001b[1;32m      2\u001b[0m     \u001b[0mr\u001b[0m \u001b[0;34m=\u001b[0m \u001b[0murl\u001b[0m\u001b[0;34m.\u001b[0m\u001b[0mread\u001b[0m\u001b[0;34m(\u001b[0m\u001b[0;34m)\u001b[0m\u001b[0;34m\u001b[0m\u001b[0m\n\u001b[1;32m      3\u001b[0m \u001b[0mwikipediaSoup\u001b[0m \u001b[0;34m=\u001b[0m \u001b[0mBeautifulSoup\u001b[0m\u001b[0;34m(\u001b[0m\u001b[0mr\u001b[0m\u001b[0;34m,\u001b[0m \u001b[0;34m\"lxml\"\u001b[0m\u001b[0;34m)\u001b[0m\u001b[0;34m\u001b[0m\u001b[0m\n\u001b[0;32m----> 4\u001b[0;31m \u001b[0mprint\u001b[0m\u001b[0;34m(\u001b[0m\u001b[0mparseOneWikipediaPageSoup\u001b[0m\u001b[0;34m(\u001b[0m\u001b[0mwikipediaSoup\u001b[0m\u001b[0;34m)\u001b[0m\u001b[0;34m)\u001b[0m\u001b[0;34m\u001b[0m\u001b[0m\n\u001b[0m",
      "\u001b[0;32m<ipython-input-260-98bdf4a5d0e1>\u001b[0m in \u001b[0;36mparseOneWikipediaPageSoup\u001b[0;34m(wikipediaSoup)\u001b[0m\n\u001b[1;32m      3\u001b[0m     \u001b[0mpageList\u001b[0m \u001b[0;34m=\u001b[0m \u001b[0;34m[\u001b[0m\u001b[0;34m]\u001b[0m\u001b[0;34m\u001b[0m\u001b[0m\n\u001b[1;32m      4\u001b[0m     \u001b[0;32mfor\u001b[0m \u001b[0myearSoup\u001b[0m \u001b[0;32min\u001b[0m \u001b[0mallYearsList\u001b[0m\u001b[0;34m:\u001b[0m\u001b[0;34m\u001b[0m\u001b[0m\n\u001b[0;32m----> 5\u001b[0;31m         \u001b[0mpageList\u001b[0m\u001b[0;34m.\u001b[0m\u001b[0mappend\u001b[0m\u001b[0;34m(\u001b[0m\u001b[0mparseOneYearSoup\u001b[0m\u001b[0;34m(\u001b[0m\u001b[0myearSoup\u001b[0m\u001b[0;34m)\u001b[0m\u001b[0;34m)\u001b[0m\u001b[0;34m\u001b[0m\u001b[0m\n\u001b[0m\u001b[1;32m      6\u001b[0m     \u001b[0;32mreturn\u001b[0m\u001b[0;34m(\u001b[0m\u001b[0mpageList\u001b[0m\u001b[0;34m)\u001b[0m\u001b[0;34m\u001b[0m\u001b[0m\n",
      "\u001b[0;32m<ipython-input-259-d5c109495282>\u001b[0m in \u001b[0;36mparseOneYearSoup\u001b[0;34m(yearSoup)\u001b[0m\n\u001b[1;32m      3\u001b[0m     \u001b[0myearList\u001b[0m \u001b[0;34m=\u001b[0m \u001b[0;34m[\u001b[0m\u001b[0;34m]\u001b[0m\u001b[0;34m\u001b[0m\u001b[0m\n\u001b[1;32m      4\u001b[0m     \u001b[0;32mfor\u001b[0m \u001b[0mepisodeSoup\u001b[0m \u001b[0;32min\u001b[0m \u001b[0mallEpisodesList\u001b[0m\u001b[0;34m:\u001b[0m\u001b[0;34m\u001b[0m\u001b[0m\n\u001b[0;32m----> 5\u001b[0;31m         \u001b[0myearList\u001b[0m\u001b[0;34m.\u001b[0m\u001b[0mappend\u001b[0m\u001b[0;34m(\u001b[0m\u001b[0mparseOneEpisodeSoup\u001b[0m\u001b[0;34m(\u001b[0m\u001b[0mepisodeSoup\u001b[0m\u001b[0;34m)\u001b[0m\u001b[0;34m)\u001b[0m\u001b[0;34m\u001b[0m\u001b[0m\n\u001b[0m\u001b[1;32m      6\u001b[0m     \u001b[0;32mreturn\u001b[0m\u001b[0;34m(\u001b[0m\u001b[0myearList\u001b[0m\u001b[0;34m)\u001b[0m\u001b[0;34m\u001b[0m\u001b[0m\n",
      "\u001b[0;32m<ipython-input-258-e11b0a554ade>\u001b[0m in \u001b[0;36mparseOneEpisodeSoup\u001b[0;34m(episodeSoup)\u001b[0m\n\u001b[1;32m      1\u001b[0m \u001b[0;32mdef\u001b[0m \u001b[0mparseOneEpisodeSoup\u001b[0m\u001b[0;34m(\u001b[0m\u001b[0mepisodeSoup\u001b[0m\u001b[0;34m)\u001b[0m\u001b[0;34m:\u001b[0m\u001b[0;34m\u001b[0m\u001b[0m\n\u001b[1;32m      2\u001b[0m     \u001b[0mepisode\u001b[0m \u001b[0;34m=\u001b[0m \u001b[0;34m{\u001b[0m\u001b[0;34m}\u001b[0m\u001b[0;34m\u001b[0m\u001b[0m\n\u001b[0;32m----> 3\u001b[0;31m     \u001b[0mepisode\u001b[0m\u001b[0;34m[\u001b[0m\u001b[0;34m\"Title\"\u001b[0m\u001b[0;34m]\u001b[0m \u001b[0;34m=\u001b[0m \u001b[0mepisodeSoup\u001b[0m\u001b[0;34m[\u001b[0m\u001b[0;36m0\u001b[0m\u001b[0;34m]\u001b[0m\u001b[0;34m.\u001b[0m\u001b[0mget_text\u001b[0m\u001b[0;34m(\u001b[0m\u001b[0;34m)\u001b[0m\u001b[0;34m\u001b[0m\u001b[0m\n\u001b[0m\u001b[1;32m      4\u001b[0m     \u001b[0mepisode\u001b[0m\u001b[0;34m[\u001b[0m\u001b[0;34m\"Series\"\u001b[0m\u001b[0;34m]\u001b[0m \u001b[0;34m=\u001b[0m \u001b[0mepisodeSoup\u001b[0m\u001b[0;34m[\u001b[0m\u001b[0;36m1\u001b[0m\u001b[0;34m]\u001b[0m\u001b[0;34m.\u001b[0m\u001b[0mget_text\u001b[0m\u001b[0;34m(\u001b[0m\u001b[0;34m)\u001b[0m\u001b[0;34m\u001b[0m\u001b[0m\n\u001b[1;32m      5\u001b[0m     \u001b[0mmyList\u001b[0m \u001b[0;34m=\u001b[0m \u001b[0mstr\u001b[0m\u001b[0;34m(\u001b[0m\u001b[0mepisodeSoup\u001b[0m\u001b[0;34m[\u001b[0m\u001b[0;36m2\u001b[0m\u001b[0;34m]\u001b[0m\u001b[0;34m)\u001b[0m\u001b[0;34m.\u001b[0m\u001b[0msplit\u001b[0m\u001b[0;34m(\u001b[0m\u001b[0;34m\"<br/>\"\u001b[0m\u001b[0;34m)\u001b[0m\u001b[0;34m\u001b[0m\u001b[0m\n",
      "\u001b[0;32m/Users/brandonsherman/anaconda/lib/python3.5/site-packages/bs4/element.py\u001b[0m in \u001b[0;36m__getitem__\u001b[0;34m(self, key)\u001b[0m\n\u001b[1;32m    956\u001b[0m         \"\"\"tag[key] returns the value of the 'key' attribute for the tag,\n\u001b[1;32m    957\u001b[0m         and throws an exception if it's not there.\"\"\"\n\u001b[0;32m--> 958\u001b[0;31m         \u001b[0;32mreturn\u001b[0m \u001b[0mself\u001b[0m\u001b[0;34m.\u001b[0m\u001b[0mattrs\u001b[0m\u001b[0;34m[\u001b[0m\u001b[0mkey\u001b[0m\u001b[0;34m]\u001b[0m\u001b[0;34m\u001b[0m\u001b[0m\n\u001b[0m\u001b[1;32m    959\u001b[0m \u001b[0;34m\u001b[0m\u001b[0m\n\u001b[1;32m    960\u001b[0m     \u001b[0;32mdef\u001b[0m \u001b[0m__iter__\u001b[0m\u001b[0;34m(\u001b[0m\u001b[0mself\u001b[0m\u001b[0;34m)\u001b[0m\u001b[0;34m:\u001b[0m\u001b[0;34m\u001b[0m\u001b[0m\n",
      "\u001b[0;31mKeyError\u001b[0m: 0"
     ]
    }
   ],
   "source": [
    "with urllib.request.urlopen('https://en.wikipedia.org/wiki/Looney_Tunes_and_Merrie_Melodies_filmography_(1929-1939)') as url:\n",
    "    r = url.read()\n",
    "wikipediaSoup = BeautifulSoup(r, \"lxml\")\n",
    "print(parseOneWikipediaPageSoup(wikipediaSoup))"
   ]
  },
  {
   "cell_type": "code",
   "execution_count": null,
   "metadata": {
    "collapsed": false
   },
   "outputs": [],
   "source": []
  },
  {
   "cell_type": "code",
   "execution_count": null,
   "metadata": {
    "collapsed": false,
    "scrolled": false
   },
   "outputs": [],
   "source": []
  },
  {
   "cell_type": "code",
   "execution_count": null,
   "metadata": {
    "collapsed": true
   },
   "outputs": [],
   "source": []
  },
  {
   "cell_type": "code",
   "execution_count": null,
   "metadata": {
    "collapsed": true
   },
   "outputs": [],
   "source": []
  }
 ],
 "metadata": {
  "kernelspec": {
   "display_name": "Python [Root]",
   "language": "python",
   "name": "Python [Root]"
  },
  "language_info": {
   "codemirror_mode": {
    "name": "ipython",
    "version": 3
   },
   "file_extension": ".py",
   "mimetype": "text/x-python",
   "name": "python",
   "nbconvert_exporter": "python",
   "pygments_lexer": "ipython3",
   "version": "3.5.2"
  }
 },
 "nbformat": 4,
 "nbformat_minor": 0
}
